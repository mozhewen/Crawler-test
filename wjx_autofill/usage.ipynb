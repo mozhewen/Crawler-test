{
 "cells": [
  {
   "cell_type": "code",
   "execution_count": null,
   "metadata": {},
   "outputs": [],
   "source": [
    "from requests_html import HTMLSession\n",
    "from wjx_autofill import *"
   ]
  },
  {
   "cell_type": "markdown",
   "metadata": {},
   "source": [
    "## 问卷数据"
   ]
  },
  {
   "cell_type": "code",
   "execution_count": null,
   "metadata": {},
   "outputs": [],
   "source": [
    "# 问卷ID\n",
    "ID = 56475625\n",
    "\n",
    "# （选择题选项编号从1开始，多选题请使用‘[编号1,编号2,...]’的格式）\n",
    "data = [\n",
    "    'mozhewen',         # 1. 姓名\n",
    "    6,                  # 2. 理论室\n",
    "    2,                  # 3. 学生\n",
    "    None,\n",
    "    '1234567890',       # 5. 联系方式\n",
    "    3,                  # 6. 目前位置：其他\n",
    "    None,\n",
    "    'XXXYYYZZZ',        # 8. 详细地址\n",
    "    None,\n",
    "    2,                  # 10. 否当天返京\n",
    "    None,\n",
    "    None,\n",
    "    None,\n",
    "    None,\n",
    "    None,\n",
    "    None,\n",
    "    None,\n",
    "    None,\n",
    "    '36.6',             # 19. 今日体温（请自觉测量后填写！）\n",
    "    1,                  # 20. 身体状况正常\n",
    "    '正常',              # 21. 家人身体状况正常\n",
    "    '无',               # 22. 无就诊\n",
    "    '无',               # 23. 无住院\n",
    "    2,                  # 24. 否去过湖北省\n",
    "    2,                  # 25. 否有过接触\n",
    "    2,                  # 26. 否从国外返京\n",
    "    None,           \n",
    "    3,                  # 28. 否隔离观察\n",
    "    3                   # 29. 否疑似/确诊\n",
    "]"
   ]
  },
  {
   "cell_type": "markdown",
   "metadata": {},
   "source": [
    "## 填写问卷流程"
   ]
  },
  {
   "cell_type": "code",
   "execution_count": null,
   "metadata": {},
   "outputs": [],
   "source": [
    "# 新建 HTTP 会话\n",
    "session = HTMLSession()"
   ]
  },
  {
   "cell_type": "code",
   "execution_count": null,
   "metadata": {},
   "outputs": [],
   "source": [
    "# 获取问卷\n",
    "qn = getQN(session, ID)"
   ]
  },
  {
   "cell_type": "code",
   "execution_count": null,
   "metadata": {},
   "outputs": [],
   "source": [
    "# 查看问卷（空）\n",
    "showQN(qn)"
   ]
  },
  {
   "cell_type": "code",
   "execution_count": null,
   "metadata": {},
   "outputs": [],
   "source": [
    "# 填写问卷\n",
    "fillInQN(qn, data)"
   ]
  },
  {
   "cell_type": "code",
   "execution_count": null,
   "metadata": {},
   "outputs": [],
   "source": [
    "# 查看问卷（已填写）\n",
    "showQN(qn)\n",
    "# （建议提交前先检查一下问卷，以防止情况有变）"
   ]
  },
  {
   "cell_type": "code",
   "execution_count": null,
   "metadata": {},
   "outputs": [],
   "source": [
    "# 提交问卷\n",
    "submitQN(session, qn)"
   ]
  }
 ],
 "metadata": {
  "language_info": {
   "name": "python",
   "codemirror_mode": {
    "name": "ipython",
    "version": 3
   },
   "version": "3.8.2-final"
  },
  "orig_nbformat": 2,
  "file_extension": ".py",
  "mimetype": "text/x-python",
  "name": "python",
  "npconvert_exporter": "python",
  "pygments_lexer": "ipython3",
  "version": 3,
  "kernelspec": {
   "name": "python37364bitba3e5622daf34542aa109178fbe0f0e9",
   "display_name": "Python 3.7.3 64-bit"
  }
 },
 "nbformat": 4,
 "nbformat_minor": 2
}